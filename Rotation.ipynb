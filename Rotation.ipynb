{
 "cells": [
  {
   "cell_type": "code",
   "execution_count": 1,
   "id": "0f677e5d",
   "metadata": {},
   "outputs": [],
   "source": [
    "from obspy.core import Stream, UTCDateTime\n",
    "from obspy.clients.fdsn import Client"
   ]
  },
  {
   "cell_type": "markdown",
   "id": "ba25de89",
   "metadata": {},
   "source": [
    "Here is a resource of rotation: [link](https://service.iris.edu/irisws/rotation/docs/1/help/)\n",
    "\n",
    "Grab some data from our Japan earthquake and look at orientations"
   ]
  },
  {
   "cell_type": "code",
   "execution_count": 4,
   "id": "a3259de6",
   "metadata": {},
   "outputs": [],
   "source": [
    "client=Client('IRIS')"
   ]
  },
  {
   "cell_type": "code",
   "execution_count": 5,
   "id": "1ebab39f",
   "metadata": {},
   "outputs": [],
   "source": [
    "stime = UTCDateTime('2024-001T07:10.00')\n",
    "etime = stime + 4*60*60"
   ]
  },
  {
   "cell_type": "code",
   "execution_count": 6,
   "id": "e9255f55",
   "metadata": {},
   "outputs": [
    {
     "name": "stdout",
     "output_type": "stream",
     "text": [
      "Origin\n",
      "\t   resource_id: ResourceIdentifier(id=\"smi:service.iris.edu/fdsnws/event/1/query?originid=49462969\")\n",
      "\t          time: UTCDateTime(2024, 1, 1, 7, 10, 9, 474000)\n",
      "\t     longitude: 137.2638\n",
      "\t      latitude: 37.4893\n",
      "\t         depth: 10000.0\n",
      "\t creation_info: CreationInfo(author='pt,at,us')\n",
      "Magnitude\n",
      "\t    resource_id: ResourceIdentifier(id=\"smi:service.iris.edu/fdsnws/event/1/query?magnitudeid=214721095\")\n",
      "\t            mag: 7.5\n",
      "\t magnitude_type: 'mww'\n",
      "\t  creation_info: CreationInfo(author='us')\n"
     ]
    }
   ],
   "source": [
    "cat = client.get_events(starttime=stime, endtime=etime, minmagnitude=7)\n",
    "print(cat[0].origins[0])\n",
    "print(cat[0].magnitudes[0])"
   ]
  },
  {
   "cell_type": "code",
   "execution_count": 8,
   "id": "b6268c91",
   "metadata": {},
   "outputs": [],
   "source": [
    "net, sta, loc, chan = 'IU', 'MAJO,ANMO','00', 'LH*'\n",
    "\n",
    "inv = client.get_stations(network=net, starttime=stime, \n",
    "                          endtime=etime, station=sta, \n",
    "                          level='response', channel=chan)"
   ]
  },
  {
   "cell_type": "code",
   "execution_count": 10,
   "id": "9bfa9357",
   "metadata": {},
   "outputs": [
    {
     "name": "stdout",
     "output_type": "stream",
     "text": [
      "6 Trace(s) in Stream:\n",
      "IU.ANMO.00.LH1 | 2024-01-01T07:10:00.069538Z - 2024-01-01T11:09:59.069538Z | 1.0 Hz, 14400 samples\n",
      "IU.ANMO.00.LH2 | 2024-01-01T07:10:00.069538Z - 2024-01-01T11:09:59.069538Z | 1.0 Hz, 14400 samples\n",
      "IU.ANMO.00.LHZ | 2024-01-01T07:10:00.069538Z - 2024-01-01T11:09:59.069538Z | 1.0 Hz, 14400 samples\n",
      "IU.MAJO.00.LH1 | 2024-01-01T07:10:00.069538Z - 2024-01-01T11:09:59.069538Z | 1.0 Hz, 14400 samples\n",
      "IU.MAJO.00.LH2 | 2024-01-01T07:10:00.069538Z - 2024-01-01T11:09:59.069538Z | 1.0 Hz, 14400 samples\n",
      "IU.MAJO.00.LHZ | 2024-01-01T07:10:00.069538Z - 2024-01-01T11:09:59.069538Z | 1.0 Hz, 14400 samples\n"
     ]
    }
   ],
   "source": [
    "st = client.get_waveforms(net, sta, loc, chan, stime, etime)\n",
    "print(st)"
   ]
  },
  {
   "cell_type": "markdown",
   "id": "5e39054f",
   "metadata": {},
   "source": [
    "Notice that we have LH1 and LH2.  We don't have LHN or LHE.\n",
    "\n",
    "What are the orientations of these sensors?"
   ]
  },
  {
   "cell_type": "code",
   "execution_count": 13,
   "id": "c29cbdd3",
   "metadata": {},
   "outputs": [
    {
     "name": "stdout",
     "output_type": "stream",
     "text": [
      "Station ANMO (Albuquerque, New Mexico, USA)\n",
      "\tStation Code: ANMO\n",
      "\tChannel Count: 6/354 (Selected/Total)\n",
      "\t2002-11-19T21:07:00.000000Z - \n",
      "\tAccess: open \n",
      "\tLatitude: 34.95, Longitude: -106.46, Elevation: 1820.0 m\n",
      "\tAvailable Channels:\n",
      "\t\tANMO.00.LHZ, ANMO.00.LH1, ANMO.00.LH2, ANMO.10.LHZ, ANMO.10.LH1, \n",
      "\t\tANMO.10.LH2\n",
      "Channel 'LH1', Location '00' \n",
      "\tTime range: 2018-07-09T20:45:00.000000Z - --\n",
      "\tLatitude: 34.95, Longitude: -106.46, Elevation: 1632.7 m, Local Depth: 188.0 m\n",
      "\tAzimuth: 156.00 degrees from north, clockwise\n",
      "\tDip: 0.00 degrees down from horizontal\n",
      "\tChannel types: CONTINUOUS, GEOPHYSICAL\n",
      "\tSampling Rate: 1.00 Hz\n",
      "\tSensor (Description): None (Streckeisen STS-6A VBB Seismometer)\n",
      "\tResponse information available\n",
      "Channel 'LH2', Location '00' \n",
      "\tTime range: 2018-07-09T20:45:00.000000Z - --\n",
      "\tLatitude: 34.95, Longitude: -106.46, Elevation: 1632.7 m, Local Depth: 188.0 m\n",
      "\tAzimuth: 246.00 degrees from north, clockwise\n",
      "\tDip: 0.00 degrees down from horizontal\n",
      "\tChannel types: CONTINUOUS, GEOPHYSICAL\n",
      "\tSampling Rate: 1.00 Hz\n",
      "\tSensor (Description): None (Streckeisen STS-6A VBB Seismometer)\n",
      "\tResponse information available\n"
     ]
    }
   ],
   "source": [
    "print(inv[0][0])\n",
    "print(inv[0][0][0])\n",
    "print(inv[0][0][1])"
   ]
  },
  {
   "cell_type": "code",
   "execution_count": 14,
   "id": "068427ee",
   "metadata": {},
   "outputs": [
    {
     "name": "stdout",
     "output_type": "stream",
     "text": [
      "6 Trace(s) in Stream:\n",
      "IU.ANMO.00.LHZ | 2024-01-01T07:10:00.069538Z - 2024-01-01T11:09:59.069538Z | 1.0 Hz, 14400 samples\n",
      "IU.ANMO.00.LHN | 2024-01-01T07:10:00.069538Z - 2024-01-01T11:09:59.069538Z | 1.0 Hz, 14400 samples\n",
      "IU.ANMO.00.LHE | 2024-01-01T07:10:00.069538Z - 2024-01-01T11:09:59.069538Z | 1.0 Hz, 14400 samples\n",
      "IU.MAJO.00.LHZ | 2024-01-01T07:10:00.069538Z - 2024-01-01T11:09:59.069538Z | 1.0 Hz, 14400 samples\n",
      "IU.MAJO.00.LHN | 2024-01-01T07:10:00.069538Z - 2024-01-01T11:09:59.069538Z | 1.0 Hz, 14400 samples\n",
      "IU.MAJO.00.LHE | 2024-01-01T07:10:00.069538Z - 2024-01-01T11:09:59.069538Z | 1.0 Hz, 14400 samples\n"
     ]
    }
   ],
   "source": [
    "st.rotate(\"->ZNE\", inventory=inv);\n",
    "print(st)"
   ]
  },
  {
   "cell_type": "markdown",
   "id": "0ceabcaa",
   "metadata": {},
   "source": [
    "You can find out more about the method here: [link](https://docs.obspy.org/packages/autogen/obspy.core.stream.Stream.rotate.html)\n",
    "\n",
    "Finally, if we want to go from NE to radial and transverse we can use our event information.\n",
    "\n",
    "First we need to get the back azimuth."
   ]
  },
  {
   "cell_type": "code",
   "execution_count": 18,
   "id": "317587de",
   "metadata": {},
   "outputs": [
    {
     "name": "stdout",
     "output_type": "stream",
     "text": [
      "314.5657100769807\n"
     ]
    }
   ],
   "source": [
    "from obspy.geodetics.base import gps2dist_azimuth\n",
    "baz = gps2dist_azimuth(cat[0].origins[0].latitude, cat[0].origins[0].longitude, \n",
    "                       inv[0][0].latitude, inv[0][0].longitude)[2]\n",
    "print(baz)"
   ]
  },
  {
   "cell_type": "code",
   "execution_count": 19,
   "id": "d125dc64",
   "metadata": {},
   "outputs": [
    {
     "name": "stdout",
     "output_type": "stream",
     "text": [
      "6 Trace(s) in Stream:\n",
      "IU.ANMO.00.LHZ | 2024-01-01T07:10:00.069538Z - 2024-01-01T11:09:59.069538Z | 1.0 Hz, 14400 samples\n",
      "IU.ANMO.00.LHR | 2024-01-01T07:10:00.069538Z - 2024-01-01T11:09:59.069538Z | 1.0 Hz, 14400 samples\n",
      "IU.ANMO.00.LHT | 2024-01-01T07:10:00.069538Z - 2024-01-01T11:09:59.069538Z | 1.0 Hz, 14400 samples\n",
      "IU.MAJO.00.LHZ | 2024-01-01T07:10:00.069538Z - 2024-01-01T11:09:59.069538Z | 1.0 Hz, 14400 samples\n",
      "IU.MAJO.00.LHN | 2024-01-01T07:10:00.069538Z - 2024-01-01T11:09:59.069538Z | 1.0 Hz, 14400 samples\n",
      "IU.MAJO.00.LHE | 2024-01-01T07:10:00.069538Z - 2024-01-01T11:09:59.069538Z | 1.0 Hz, 14400 samples\n"
     ]
    }
   ],
   "source": [
    "st.select(station='ANMO').rotate(\"NE->RT\",back_azimuth=baz)\n",
    "print(st)"
   ]
  },
  {
   "cell_type": "markdown",
   "id": "b3e568d9",
   "metadata": {},
   "source": [
    "This is an example of where it is best to do this by station as each station and even with have a different back azimuth."
   ]
  },
  {
   "cell_type": "code",
   "execution_count": null,
   "id": "e142439e",
   "metadata": {},
   "outputs": [],
   "source": []
  }
 ],
 "metadata": {
  "kernelspec": {
   "display_name": "Python 3 (ipykernel)",
   "language": "python",
   "name": "python3"
  },
  "language_info": {
   "codemirror_mode": {
    "name": "ipython",
    "version": 3
   },
   "file_extension": ".py",
   "mimetype": "text/x-python",
   "name": "python",
   "nbconvert_exporter": "python",
   "pygments_lexer": "ipython3",
   "version": "3.7.12"
  }
 },
 "nbformat": 4,
 "nbformat_minor": 5
}
